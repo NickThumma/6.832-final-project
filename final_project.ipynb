{
  "nbformat": 4,
  "nbformat_minor": 0,
  "metadata": {
    "kernelspec": {
      "display_name": "Python 3",
      "language": "python",
      "name": "python3"
    },
    "language_info": {
      "codemirror_mode": {
        "name": "ipython",
        "version": 3
      },
      "file_extension": ".py",
      "mimetype": "text/x-python",
      "name": "python",
      "nbconvert_exporter": "python",
      "pygments_lexer": "ipython3",
      "version": "3.7.7"
    },
    "colab": {
      "name": "final_project.ipynb",
      "provenance": [],
      "collapsed_sections": [],
      "include_colab_link": true
    }
  },
  "cells": [
    {
      "cell_type": "markdown",
      "metadata": {
        "id": "view-in-github",
        "colab_type": "text"
      },
      "source": [
        "<a href=\"https://colab.research.google.com/github/NicoleThumma/6.832-final-project/blob/main/final_project.ipynb\" target=\"_parent\"><img src=\"https://colab.research.google.com/assets/colab-badge.svg\" alt=\"Open In Colab\"/></a>"
      ]
    },
    {
      "cell_type": "markdown",
      "metadata": {
        "id": "QTh5nS_rNjGb"
      },
      "source": [
        "# Orbital Transfer via Trajectory Optimization"
      ]
    },
    {
      "cell_type": "markdown",
      "metadata": {
        "id": "6Yp19Ih3NjGh"
      },
      "source": [
        "## Notebook Setup \n",
        "The following cell will install Drake, checkout the underactuated repository, and set up the path (only if necessary).\n",
        "- On Google's Colaboratory, this **will take approximately two minutes** on the first time it runs (to provision the machine), but should only need to reinstall once every 12 hours.  Colab will ask you to \"Reset all runtimes\"; say no to save yourself the reinstall.\n",
        "- On Binder, the machines should already be provisioned by the time you can run this; it should return (almost) instantly.\n",
        "\n",
        "More details are available [here](http://underactuated.mit.edu/drake.html)."
      ]
    },
    {
      "cell_type": "code",
      "metadata": {
        "id": "0g3unUHLNjGi",
        "cellView": "form"
      },
      "source": [
        "#@title\n",
        "import importlib\n",
        "import sys\n",
        "from urllib.request import urlretrieve\n",
        "\n",
        "# Install drake (and underactuated).\n",
        "if 'google.colab' in sys.modules and importlib.util.find_spec('underactuated') is None:\n",
        "    urlretrieve(f\"http://underactuated.csail.mit.edu/scripts/setup/setup_underactuated_colab.py\",\n",
        "                \"setup_underactuated_colab.py\")\n",
        "    from setup_underactuated_colab import setup_underactuated\n",
        "    setup_underactuated(underactuated_sha='845157815a58bb51e2033b9c27f235df688e23f6', drake_version='0.25.0', drake_build='releases')\n",
        "\n",
        "# Setup matplotlib backend (to notebook, if possible, or inline).  \n",
        "from underactuated.jupyter import setup_matplotlib_backend\n",
        "plt_is_interactive = setup_matplotlib_backend()"
      ],
      "execution_count": 13,
      "outputs": []
    },
    {
      "cell_type": "code",
      "metadata": {
        "id": "rfEg55UENjGi",
        "cellView": "form"
      },
      "source": [
        "#@title\n",
        "# python libraries\n",
        "import numpy as np\n",
        "import matplotlib.pyplot as plt\n",
        "from IPython.display import HTML, display\n",
        "\n",
        "# pydrake imports\n",
        "from pydrake.all import (Variable, SymbolicVectorSystem, DiagramBuilder,\n",
        "                         LogOutput, Simulator, ConstantVectorSource,\n",
        "                         MathematicalProgram, Solve, SnoptSolver, PiecewisePolynomial)\n",
        "\n",
        "from pydrake.all import (AddMultibodyPlantSceneGraph,\n",
        "                         LinearQuadraticRegulator, Parser,\n",
        "                         PlanarSceneGraphVisualizer, Linearize)\n",
        "\n",
        "# increase default size matplotlib figures\n",
        "from matplotlib import rcParams\n",
        "rcParams['figure.figsize'] = (8, 5)\n",
        "\n",
        "# underactuated imports\n",
        "from underactuated import FindResource\n"
      ],
      "execution_count": 14,
      "outputs": []
    },
    {
      "cell_type": "code",
      "metadata": {
        "id": "QPROCnn3NaE_"
      },
      "source": [
        "#PARAMETERS\n",
        "random_seed = 5 #sets the seed for randomness is creating the obstacles\n",
        "years = 5 #time interval, operates best between .5 and 1.5\n",
        "proximity_weighting = 10 #weighting factor for the waypoints\n",
        "\n",
        "#ROCKET SPECIFIC\n",
        "max_vel = 150\n",
        "min_vel = 50"
      ],
      "execution_count": 15,
      "outputs": []
    },
    {
      "cell_type": "markdown",
      "metadata": {
        "id": "D-3_RxlCNjGj"
      },
      "source": [
        "## Problem Description\n",
        "\n",
        "Simplifying assumptions:\n",
        "- the environment is 2D,\n",
        "- the objects are circles that do not move\n",
        "\n",
        "Goals:\n",
        "- enforce state and input limits\n",
        "- enforce minimum speed\n",
        "- (minimize the fuel consumption)\n",
        "- avoid obstacles\n",
        "\n",
        "Below are the units of measurements in this problem: this is a fundamental step to prevent the solver from having numeric issues."
      ]
    },
    {
      "cell_type": "code",
      "metadata": {
        "id": "Rxr5305-NjGk"
      },
      "source": [
        "# dictionary of functions to convert the units of the problem data\n",
        "# the fist argument is the numeric value we want to convert\n",
        "# the second argument is the unit power\n",
        "# e.g., m = 2 and power = 2 for square meters\n",
        "unit_converter = {\n",
        "    'mass':   lambda m, power=1 : m / 1e3 ** power, # takes kilos, returns tons\n",
        "    'length': lambda l, power=1 : l / 1e11 ** power, # takes meters, returns hundreds of gigameters\n",
        "    'time':   lambda t, power=1 : t / (60 * 60 * 24 * 30 * 12)  ** power, # takes seconds, returns years\n",
        "}\n"
      ],
      "execution_count": 16,
      "outputs": []
    },
    {
      "cell_type": "markdown",
      "metadata": {
        "id": "42k3fMoaNjGl"
      },
      "source": [
        "## Model of the 2D Universe\n",
        "\n",
        "Aircraft model is [SpaceX Falcon 9 rocket](https://www.spacex.com/vehicles/falcon-9).\n",
        "\n",
        "Ridiculously tight limits on the maximum thrust and velocity.\n",
        "\n",
        "(The true reason for these tiny limits is a mixture of modeling and numeric issues. If you feel like, give the true [Falcon 9 specs](https://www.spacex.com/vehicles/falcon-9) a try!)"
      ]
    },
    {
      "cell_type": "code",
      "metadata": {
        "id": "iY8Pb8J4NjGl",
        "colab": {
          "base_uri": "https://localhost:8080/"
        },
        "outputId": "17f0a294-75a7-47c4-8b3b-8a0b7fbbd1d4"
      },
      "source": [
        "# simple class to store the rocket data\n",
        "class Rocket(object):\n",
        "    \n",
        "    def __init__(\n",
        "        self,\n",
        "        mass,           # mass of the rocket in kg\n",
        "        thrust_limit,   # max norm of the thrust in kg * m * s^-2\n",
        "        velocity_limit,  # max norm of the velocity in m * s^-1\n",
        "        velocity_lower_limit # min norm of the velocity in m * s^-1\n",
        "    ):\n",
        "        \n",
        "        # store mass using the scaled units\n",
        "        self.mass = unit_converter['mass'](mass)\n",
        "        \n",
        "        # store thrust limit converting the units one by one\n",
        "        thrust_units = [('mass', 1), ('length', 1), ('time', -2)]\n",
        "        for (quantity, power) in thrust_units:\n",
        "            print(\"pre:\", thrust_limit)\n",
        "            thrust_limit = unit_converter[quantity](thrust_limit, power)\n",
        "            print(\"post:\", thrust_limit)\n",
        "        self.thrust_limit = thrust_limit\n",
        "        \n",
        "        # store velocity limit converting the units one by one\n",
        "        velocity_units = [('length', 1), ('time', -1)]\n",
        "        for (quantity, power) in velocity_units:\n",
        "            velocity_limit = unit_converter[quantity](velocity_limit, power)\n",
        "            velocity_lower_limit = unit_converter[quantity](velocity_lower_limit, power)\n",
        "        self.velocity_limit = velocity_limit\n",
        "        self.velocity_lower_limit = velocity_lower_limit\n",
        "        \n",
        "# instantiate the rocket\n",
        "rocket = Rocket(\n",
        "    5.49e5, # mass of Falcon 9 in kg\n",
        "    .25, # * (60 * 60 * 24 * 30 * 12),    # very small thrust limit in kg * m * s^-2\n",
        "    max_vel, # * (60 * 60 * 24 * 30 * 12),    # very small velocity limit in m * s^-1\n",
        "    min_vel # * (60 * 60 * 24 * 30 * 12)      # test min\n",
        ")\n",
        "\n",
        "print(rocket.thrust_limit)\n",
        "print(rocket.velocity_limit)\n",
        "print(rocket.velocity_lower_limit)\n",
        "print((2.5e-15)/(60 * 60 * 24 * 30 * 12)**(-2))\n",
        "#2.41864704\n",
        "#0.0046656\n",
        "#0.0015551999999999999"
      ],
      "execution_count": 17,
      "outputs": [
        {
          "output_type": "stream",
          "text": [
            "pre: 0.25\n",
            "post: 0.00025\n",
            "pre: 0.00025\n",
            "post: 2.5e-15\n",
            "pre: 2.5e-15\n",
            "post: 2.41864704\n",
            "2.41864704\n",
            "0.046655999999999996\n",
            "0.015552\n",
            "2.41864704\n"
          ],
          "name": "stdout"
        }
      ]
    },
    {
      "cell_type": "markdown",
      "metadata": {
        "id": "ZYSFo9ZJNjGm"
      },
      "source": [
        "Region class.\n",
        "The start and end will be instances of this class, as well as the obstacles.\n",
        "\n",
        "This class has a parameter called `orbit`.\n",
        "For the start, this is the radius of the region from which our mission starts.\n",
        "\n",
        "For end, this is the radius of the target region.\n",
        "For the obstacles, this is the radius of a \"danger area\" centered at the obstacle itself that we want our aircraft to avoid."
      ]
    },
    {
      "cell_type": "code",
      "metadata": {
        "id": "ZXQ0RkjRNjGn",
        "colab": {
          "base_uri": "https://localhost:8080/"
        },
        "outputId": "0ad2cb55-9f6c-4d70-e4ed-1d8e19da91ae"
      },
      "source": [
        "# each location/obstacle in the problem must be an instance of this class\n",
        "class Region(object):\n",
        "    \n",
        "    def __init__(\n",
        "        self,\n",
        "        name,          # string with the name of the region\n",
        "        color,         # color of the region for plots\n",
        "        position,      # position of the region in the 2d universe in m\n",
        "        orbit,         # radius of the orbit in m\n",
        "        radius=np.nan, # radius of the region in m (optional)\n",
        "    ):\n",
        "        \n",
        "        # store the data using the scaled units\n",
        "        self.name = name\n",
        "        self.position = unit_converter['length'](position)\n",
        "        self.radius = unit_converter['length'](radius)\n",
        "        self.orbit = unit_converter['length'](orbit)\n",
        "        self.color = color\n",
        "        \n",
        "start = Region(\n",
        "    'Start',                # name of the region\n",
        "    'green',                # color for plot\n",
        "    np.array([2.25e11, 0]), # (average) distance wrt End in m\n",
        "    2e9,                   # orbit radius in m (chosen \"big enough\" for the plots)\n",
        ")\n",
        "\n",
        "end = Region(\n",
        "    'End',      # name of the region\n",
        "    'red',       # color for plot\n",
        "    np.zeros(2), # End is chosen as the origin of our 2D universe\n",
        "    2e9,      # orbit radius in m\n",
        ")\n",
        "\n",
        "waypoints = []\n",
        "# waypoint_name = []\n",
        "points = [[1e11+5e10, 5e10], [1e11-5e10, 5e10]]\n",
        "for i in range(len(points)):\n",
        "  new_waypoint = Region(\n",
        "    'Waypoint_'+str(i+2),      # name of the region\n",
        "    'blue',       # color for plot\n",
        "    np.array(points[i]), # End is chosen as the origin of our 2D universe\n",
        "    2e9,      # orbit radius in m\n",
        "  )\n",
        "  # waypoint_names.append('Waypoint_'+str(i))\n",
        "  waypoints.append(new_waypoint)\n",
        "\n",
        "# obstacles with random data in random positions\n",
        "np.random.seed(random_seed)\n",
        "n_obstacles = 10\n",
        "obstacles = []\n",
        "for i in range(n_obstacles):\n",
        "    orbit = (np.abs(np.random.randn())+1)/2 * 1e10\n",
        "    start_from_end = unit_converter['length'](start.position, -1)\n",
        "    obstacle_from_end = np.random.randn(2) * 3e10 + start_from_end / 2 #2d \n",
        "    \n",
        "    obstacles.append(\n",
        "        Region(\n",
        "            f'Obstacle_{i}',    # name\n",
        "            'brown',            # color for plot\n",
        "            obstacle_from_end, # distance from End in m\n",
        "            orbit        # radius danger area in m\n",
        "        )\n",
        "    )\n",
        "print(waypoints[0].name)"
      ],
      "execution_count": 18,
      "outputs": [
        {
          "output_type": "stream",
          "text": [
            "Waypoint_2\n"
          ],
          "name": "stdout"
        }
      ]
    },
    {
      "cell_type": "markdown",
      "metadata": {
        "id": "IlzfsdvYNjGn"
      },
      "source": [
        "Let's put all the pieces together in ours 2D universe.\n",
        "The class `Universe` also implements some utility functions that will be helpful when setting up the optimization problem.\n",
        "For example, for the piece of code you'll be asked to write, you might consider using the `position_wrt_region` method."
      ]
    },
    {
      "cell_type": "code",
      "metadata": {
        "id": "VHhNEzBfNjGo",
        "colab": {
          "base_uri": "https://localhost:8080/"
        },
        "outputId": "b57674cc-8a8f-4b0b-f5b3-d138ec05ec18"
      },
      "source": [
        "# main class of the notebook\n",
        "# it collects the rocket, the regions, and all the obstacles\n",
        "# implements utility functions needed to write the trajopt\n",
        "class Universe(object):\n",
        "    \n",
        "    def __init__(\n",
        "        self,\n",
        "        rocket, # instance of Rocket\n",
        "        regions # list of instances of Regions\n",
        "    ):\n",
        "        \n",
        "        # store data\n",
        "        self.rocket = rocket\n",
        "        self.regions = regions\n",
        "\n",
        "            \n",
        "    # given the region name, returns the Region instance\n",
        "    def get_region(self, name):\n",
        "        \n",
        "        # loop through the regions in the universe\n",
        "        for region in self.regions:\n",
        "            if region.name == name:\n",
        "                return region\n",
        "            \n",
        "        # in case no region has the given name\n",
        "        print(name + ' is not in the Universe!')\n",
        "        \n",
        "    # computes  2D distance vector between the rocket and a region,\n",
        "    # given the rocket state and the region name\n",
        "    def position_wrt_region(self, state, name):\n",
        "        \n",
        "        # rocket position wrt to the region position\n",
        "        region = self.get_region(name)\n",
        "        p = state[:2] - region.position\n",
        "\n",
        "        return p\n",
        "    \n",
        "    # right-hand side of the rocket continuous-time dynamics\n",
        "    # in the form state_dot = f(state, thrust)\n",
        "    # (thrust is a 2D vector with the horizontal and vertical thrusts)\n",
        "    def rocket_continuous_dynamics(self, state, thrust):\n",
        "\n",
        "        # thrust acceleration\n",
        "        a = thrust / self.rocket.mass\n",
        "            \n",
        "        # concatenate velocity and acceleration\n",
        "        state_dot = np.concatenate((state[2:], a))\n",
        "            \n",
        "        return state_dot\n",
        "\n",
        "    def rocket_get_next_step(self, state, thrust, time_step):\n",
        "      state_dot = self.rocket_continuous_dynamics(state, thrust)\n",
        "      return state + time_step * state_dot\n",
        "\n",
        "    \n",
        "    # residuals of the rocket discrete-time dynamics\n",
        "    # if the vector of residuals is zero, then this method's\n",
        "    # arguments verify the discrete-time dynamics\n",
        "    # (implements the implicit Euler integration scheme:\n",
        "    # https://en.wikipedia.org/wiki/Backward_Euler_method)\n",
        "    def rocket_discrete_dynamics(self, state, state_next, thrust, time_step):\n",
        "        \n",
        "        # continuous-time dynamics evaluated at the next time step\n",
        "        state_dot = self.rocket_continuous_dynamics(state_next, thrust)\n",
        "        \n",
        "        # implicit-Euler state update\n",
        "        residuals = state_next - state - time_step * state_dot\n",
        "        \n",
        "        return residuals\n",
        "\n",
        "            \n",
        "            \n",
        "# instantiate universe\n",
        "regions = [start, end] + obstacles + waypoints\n",
        "universe = Universe(rocket, regions)\n",
        "print(universe.get_region(\"Start\"))"
      ],
      "execution_count": 19,
      "outputs": [
        {
          "output_type": "stream",
          "text": [
            "<__main__.Region object at 0x7f04ec73ae10>\n"
          ],
          "name": "stdout"
        }
      ]
    },
    {
      "cell_type": "markdown",
      "metadata": {
        "id": "9fEmNu85NjGo"
      },
      "source": [
        "## Plot Functions\n",
        "\n",
        "Here are some plot functions that will help us visualizing the results.\n",
        "You'll find these useful when improving the trajectory as explained below.\n",
        "As always, no need to fully understand what's going on here, unless you're a `matplotlib` enthusiast..."
      ]
    },
    {
      "cell_type": "code",
      "metadata": {
        "id": "Nrzb9mPwNjGp"
      },
      "source": [
        "#@title\n",
        "# helper function that plots a circle centered at\n",
        "# the given point and with the given radius\n",
        "def plot_circle(center, radius, *args, **kwargs):\n",
        "    \n",
        "    # discretize angle\n",
        "    angle = np.linspace(0, 2*np.pi)\n",
        "    \n",
        "    # plot circle\n",
        "    plt.plot(\n",
        "        center[0] + radius * np.cos(angle),\n",
        "        center[1] + radius * np.sin(angle),\n",
        "        *args,\n",
        "        **kwargs\n",
        "    )\n",
        "\n",
        "# function that draws the state-space trajectory of the rocket\n",
        "# including the regions and the obstacles\n",
        "def plot_state_trajectory(trajectory, universe):\n",
        "    \n",
        "    for region in universe.regions:\n",
        "        \n",
        "        # plot regions\n",
        "        plt.scatter(*region.position, s=100, c=region.color)\n",
        "        plt.text(*region.position, region.name)\n",
        "    \n",
        "        # plot orbits\n",
        "        if not np.isnan(region.orbit):\n",
        "            if region.name == 'Obstacle_1':\n",
        "                orbit_label = 'Obstacle danger area'\n",
        "            elif region.name[:8] == 'Obstacle':\n",
        "                orbit_label = None\n",
        "            else:\n",
        "                orbit_label = region.name + ' orbit'\n",
        "            plot_circle(\n",
        "                region.position,\n",
        "                region.orbit,\n",
        "                label=orbit_label,\n",
        "                color=region.color,\n",
        "                linestyle='--'\n",
        "            )\n",
        "    \n",
        "    # plot rocket trajectory\n",
        "    plt.plot(trajectory.T[0], trajectory.T[1], color='k', label='Rocket trajectory')\n",
        "    plt.scatter(trajectory[0,0], trajectory[0,1], color='k')\n",
        "    \n",
        "    # misc settings\n",
        "    length_unit = unit_converter['length'](1)\n",
        "    plt.xlabel('{:.0e} meters'.format(length_unit))\n",
        "    plt.ylabel('{:.0e} meters'.format(length_unit))\n",
        "    plt.grid(True)\n",
        "    plt.gca().set_aspect('equal')\n",
        "    \n",
        "    # legend\n",
        "    n_legend = len(plt.gca().get_legend_handles_labels()[0])\n",
        "    plt.legend(\n",
        "        loc='upper center',\n",
        "        ncol=int(n_legend / 2),\n",
        "        bbox_to_anchor=(.5, 1.25),\n",
        "        fancybox=True,\n",
        "        shadow=True\n",
        "    )\n",
        "\n",
        "# function that plots the norm of the rocket thrust and\n",
        "# velocity normalized on their maximum value\n",
        "def plot_rocket_limits(rocket, thrust, state):\n",
        "    \n",
        "    # reconstruct time vector\n",
        "    time_steps = thrust.shape[0]\n",
        "    time = np.linspace(0, time_steps, time_steps + 1)\n",
        "    \n",
        "    # plot maximum norm limit\n",
        "    plt.plot(time, np.ones(time_steps + 1), 'r--', label='Upper Limit')\n",
        "\n",
        "    # plot minimum norm limit\n",
        "\n",
        "    plt.plot(time, np.full(time_steps + 1, 1/3), 'r--', label='Lower Limit')\n",
        "    \n",
        "    # plot normalized thrust\n",
        "    thrust_norm = [np.linalg.norm(t) / rocket.thrust_limit for t in thrust]\n",
        "    plt.step(time, [thrust_norm[0]] + thrust_norm, label='Thrust / thrust limit')\n",
        "    \n",
        "    # plot normalized velocity\n",
        "    velocity_norm = [np.linalg.norm(v) / rocket.velocity_limit for v in state[:,2:]]\n",
        "    plt.plot(time, velocity_norm, label='Velocity / velocity limit')\n",
        "    \n",
        "    # plot limits\n",
        "    plt.xlim(0, time_steps)\n",
        "    ymax = max(1, max(thrust_norm), max(velocity_norm)) * 1.05\n",
        "    plt.ylim(0, ymax)\n",
        "    \n",
        "    # misc settings\n",
        "    plt.xlabel('Time step')\n",
        "    plt.grid(True)\n",
        "    plt.legend()"
      ],
      "execution_count": 20,
      "outputs": []
    },
    {
      "cell_type": "markdown",
      "metadata": {
        "id": "0AmOwVikNjGq"
      },
      "source": [
        "## Trajectory Optimization\n"
      ]
    },
    {
      "cell_type": "code",
      "metadata": {
        "id": "0fX7WuBANjGq"
      },
      "source": [
        "# function that interpolates two given positions of the rocket\n",
        "# velocity is set to zero for all the times\n",
        "def interpolate_rocket_state(p_all, time_steps):\n",
        "    np.random.seed(1)\n",
        "\n",
        "    num_waypoints = len(p_all)-1\n",
        "    \n",
        "    # initial and final time and state\n",
        "    time_limits = [0., time_steps * time_interval/num_waypoints]\n",
        "\n",
        "    min_vels = []\n",
        "    for i in range(num_waypoints):\n",
        "      p_diff = p_all[i+1] - p_all[i]\n",
        "      norm_p_diff = p_diff/np.sqrt(p_diff[0]**2 + p_diff[1]**2)\n",
        "      min_vels.append(min_vel*norm_p_diff)\n",
        "    min_vels.append(min_vels[-1])\n",
        "    min_vels = np.array(min_vels)\n",
        "\n",
        "    state_guess = np.array([[0, 0, 0, 0]])\n",
        "    for i in range(num_waypoints):\n",
        "        position_limits = np.column_stack((p_all[i], p_all[i+1]))\n",
        "        \n",
        "        state_limits = np.vstack((position_limits, np.column_stack((min_vels[i], min_vels[i+1])))) #Change to be in direction of next point at min vel\n",
        "\n",
        "        # linear interpolation in state\n",
        "        state = PiecewisePolynomial.FirstOrderHold(time_limits, state_limits)\n",
        "        # sample state on the time grid and add small random noise\n",
        "        if i == num_waypoints-1: \n",
        "            remaining_steps = (time_steps+2) - state_guess.shape[0] #safety measure\n",
        "            state_guess = np.concatenate((state_guess, np.vstack([state.value(t * time_interval).T for t in range(remaining_steps)]) ), axis=0)\n",
        "        else:\n",
        "            state_guess = np.concatenate((state_guess, np.vstack([state.value(t * time_interval).T for t in range(int(time_steps/num_waypoints))]) ), axis=0 )\n",
        "\n",
        "    state_guess = state_guess[1:]\n",
        "    state_guess += np.random.rand(*state_guess.shape) * 5e-6\n",
        "    \n",
        "    return state_guess"
      ],
      "execution_count": 21,
      "outputs": []
    },
    {
      "cell_type": "markdown",
      "metadata": {
        "id": "eLg8X6YNNjGq"
      },
      "source": [
        ""
      ]
    },
    {
      "cell_type": "code",
      "metadata": {
        "id": "vL3fl5BHNjGq"
      },
      "source": [
        "# numeric parameters\n",
        "time_interval = years # in years\n",
        "time_steps = 100\n",
        "\n",
        "# initialize optimization\n",
        "prog = MathematicalProgram()\n",
        "\n",
        "# optimization variables\n",
        "state = prog.NewContinuousVariables(time_steps + 1, 4, 'state')\n",
        "thrust = prog.NewContinuousVariables(time_steps, 2, 'thrust')\n",
        "\n",
        "# initial orbit constraints\n",
        "prog.AddConstraint(universe.position_wrt_region(state[0], 'Start').dot(universe.position_wrt_region(state[0], 'Start')) <= start.orbit**2)\n",
        "prog.AddConstraint(state[0][2:4].dot(state[0][2:4]) == rocket.velocity_lower_limit**2)\n",
        "\n",
        "# terminal orbit constraints\n",
        "# prog.AddConstraint(universe.position_wrt_region(state[-1], 'End').dot(universe.position_wrt_region(state[-1], 'End')) <= end.orbit**2)\n",
        "\n",
        "# discretized dynamics\n",
        "for t in range(time_steps):\n",
        "    residuals = universe.rocket_discrete_dynamics(state[t], state[t+1], thrust[t], time_interval)\n",
        "    for residual in residuals:\n",
        "        prog.AddConstraint(residual == 0)\n",
        "    \n",
        "# initial guess\n",
        "waypoint_positions = [universe.get_region('Start').position] + [way.position for way in waypoints] + [universe.get_region('End').position]\n",
        "# waypoint_positions = [universe.get_region('Start').position] + [universe.get_region('End').position]\n",
        "\n",
        "state_guess = interpolate_rocket_state(\n",
        "    waypoint_positions,\n",
        "    time_steps\n",
        ")\n",
        "prog.SetInitialGuess(state, state_guess)"
      ],
      "execution_count": 22,
      "outputs": []
    },
    {
      "cell_type": "markdown",
      "metadata": {
        "id": "C4FldtX4NjGq"
      },
      "source": [
        ""
      ]
    },
    {
      "cell_type": "code",
      "metadata": {
        "id": "z69PxEwKNjGq"
      },
      "source": [
        "# velocity limits, for all t:\n",
        "# two norm of the rocket velocity\n",
        "# lower or equal to the rocket velocity_limit\n",
        "\n",
        "for t in range(time_steps):\n",
        "  prog.AddConstraint(state[t][2:4].dot(state[t][2:4]) <= rocket.velocity_limit**2)\n",
        "for t in range(time_steps):\n",
        "  prog.AddConstraint(state[t][2:4].dot(state[t][2:4]) >= rocket.velocity_lower_limit**2)\n",
        "\n",
        "# avoid collision with obstacles, for all t, for all obstacles:\n",
        "# two norm of the rocket distance from the obstacle\n",
        "# greater or equal to the obstacle orbit\n",
        "\n",
        "for t in range(time_steps):\n",
        "  for obstacle in obstacles:\n",
        "    prog.AddConstraint(universe.position_wrt_region(state[t], obstacle.name).dot(universe.position_wrt_region(state[t], obstacle.name)) >= obstacle.orbit**2)\n",
        "\n",
        "# minimize fuel consumption, for all t:\n",
        "# add to the objective the two norm squared of the thrust\n",
        "# multiplied by the time_interval so that the optimal cost\n",
        "# approximates the time integral of the thrust squared\n",
        "\n",
        "#Automate waypoint cost addition\n",
        "\n",
        "prog.AddCost(\n",
        "            time_interval * (sum(t.dot(t) for t in thrust)) \n",
        "            +proximity_weighting*time_steps*universe.position_wrt_region(state[-1], 'End').dot(universe.position_wrt_region(state[-1], 'End'))\n",
        "            +proximity_weighting*time_steps*universe.position_wrt_region(state[int(time_steps/3)], 'Waypoint_2').dot(universe.position_wrt_region(state[int(time_steps/3)], 'Waypoint_2'))\n",
        "            +proximity_weighting*time_steps*universe.position_wrt_region(state[int(2*time_steps/3)], 'Waypoint_3').dot(universe.position_wrt_region(state[int(2*time_steps/3)], 'Waypoint_3'))\n",
        "           )\n",
        "# prog.AddCost(universe.position_wrt_region(state[-1], 'End').dot(universe.position_wrt_region(state[-1], 'End')))\n",
        "\n",
        "\n",
        "# thrust limits, for all t:\n",
        "# two norm of the rocket thrust\n",
        "# lower or equal to the rocket thrust_limit\n",
        "\n",
        "for t in range(time_steps):\n",
        "  prog.AddConstraint(thrust[t].dot(thrust[t]) <= rocket.thrust_limit**2)"
      ],
      "execution_count": 23,
      "outputs": []
    },
    {
      "cell_type": "markdown",
      "metadata": {
        "id": "vdmj5a-ONjGq"
      },
      "source": [
        "Now that we have written the optimization problem, we can solve it using the nonlinear optimization solver `Snopt`.\n"
      ]
    },
    {
      "cell_type": "code",
      "metadata": {
        "id": "DEqe4_CUNjGq"
      },
      "source": [
        "# solve mathematical program\n",
        "solver = SnoptSolver()\n",
        "result = solver.Solve(prog)\n",
        "\n",
        "# be sure that the solution is optimal\n",
        "assert result.is_success()\n",
        "\n",
        "# retrieve optimal solution\n",
        "thrust_opt = result.GetSolution(thrust)\n",
        "state_opt = result.GetSolution(state)"
      ],
      "execution_count": 24,
      "outputs": []
    },
    {
      "cell_type": "markdown",
      "metadata": {
        "id": "erN06-BENjGr"
      },
      "source": [
        "## Plot the Optimization Results\n",
        "\n",
        "Here is a visualization of the optimal state trajectory.\n",
        "Note that we would like the trajectory of the rocket not to intersect any of the danger areas around the obstacles."
      ]
    },
    {
      "cell_type": "code",
      "metadata": {
        "id": "XI4yYcW2NjGs",
        "colab": {
          "base_uri": "https://localhost:8080/",
          "height": 465
        },
        "outputId": "2256eac9-127e-4bc5-a8ef-dff6fabe4805"
      },
      "source": [
        "plt.figure()\n",
        "plot_state_trajectory(state_opt, universe)\n",
        "print(start.position)\n",
        "print(state_opt[0][0:2])\n",
        "print(end.position)\n",
        "print(state_opt[-1][0:2])"
      ],
      "execution_count": 25,
      "outputs": [
        {
          "output_type": "stream",
          "text": [
            "[2.25 0.  ]\n",
            "[ 2.26170582 -0.01621647]\n",
            "[0. 0.]\n",
            "[-0.00183814  0.00089965]\n"
          ],
          "name": "stdout"
        },
        {
          "output_type": "display_data",
          "data": {
            "image/png": "[encoded data removed]",
            "text/plain": [
              "<Figure size 576x360 with 1 Axes>"
            ]
          },
          "metadata": {
            "tags": [],
            "needs_background": "light"
          }
        }
      ]
    },
    {
      "cell_type": "markdown",
      "metadata": {
        "id": "qqbSPrtyNjGs"
      },
      "source": [
        "Here are the ratios between the 2 norm of the rocket thrust and velocity and their maximum values.\n",
        "Note that we would like these ratios not to exceed one (labeled as \"Limit\" in the plot)."
      ]
    },
    {
      "cell_type": "code",
      "metadata": {
        "id": "AgBfsPf-NjGs",
        "colab": {
          "base_uri": "https://localhost:8080/",
          "height": 334
        },
        "outputId": "57539893-2ded-4e84-b6ab-773dc662f8ef"
      },
      "source": [
        "plt.figure()\n",
        "plot_rocket_limits(rocket, thrust_opt, state_opt)"
      ],
      "execution_count": 26,
      "outputs": [
        {
          "output_type": "display_data",
          "data": {
            "image/png": "[encoded data removed]",
            "text/plain": [
              "<Figure size 576x360 with 1 Axes>"
            ]
          },
          "metadata": {
            "tags": [],
            "needs_background": "light"
          }
        }
      ]
    },
    {
      "cell_type": "code",
      "metadata": {
        "id": "_NUTEmMQHCw7"
      },
      "source": [
        "\n",
        "def plot_distance_to_waypoints(state):\n",
        "    time_steps = state.shape[0]\n",
        "    time = np.linspace(0, time_steps, time_steps)\n",
        "    all_regions = [start] + waypoints + [end]\n",
        "    max_dist = 0.0\n",
        "\n",
        "    # reconstruct time vector\n",
        "    all_distances = [[] for i in range(len(all_regions))]\n",
        "    for i in range(len(all_regions)):\n",
        "      for s in state_opt:\n",
        "        current_pos = universe.position_wrt_region(s, all_regions[i].name)\n",
        "        current_dist = np.sqrt(current_pos[0]**2 + current_pos[1]**2)\n",
        "        max_dist = max(max_dist, current_dist)\n",
        "        all_distances[i].append(current_dist)\n",
        "\n",
        "      plt.step(time, all_distances[i], label=all_regions[i].name+' Distance')\n",
        "    \n",
        "    # plot limits\n",
        "    plt.xlim(0, time_steps)\n",
        "    ymax = max_dist * 1.05\n",
        "    plt.ylim(0, ymax)\n",
        "    \n",
        "    # misc settings\n",
        "    plt.xlabel('Time step')\n",
        "    plt.grid(True)\n",
        "    plt.legend()"
      ],
      "execution_count": 27,
      "outputs": []
    },
    {
      "cell_type": "code",
      "metadata": {
        "colab": {
          "base_uri": "https://localhost:8080/",
          "height": 335
        },
        "id": "URWU3_05FrYw",
        "outputId": "3893fc68-eb57-470b-d722-dfc3512c07e5"
      },
      "source": [
        "plt.figure()\n",
        "plot_distance_to_waypoints(state_opt)"
      ],
      "execution_count": 28,
      "outputs": [
        {
          "output_type": "display_data",
          "data": {
            "image/png": "[encoded data removed]",
            "text/plain": [
              "<Figure size 576x360 with 1 Axes>"
            ]
          },
          "metadata": {
            "tags": [],
            "needs_background": "light"
          }
        }
      ]
    },
    {
      "cell_type": "markdown",
      "metadata": {
        "id": "Hke2BP9JNjGs"
      },
      "source": [
        "\n",
        "\n",
        "If you're struggling trying to find the right functions to complete your task, here are two great resources:\n",
        "- [Drake's MathematicalProgram documentation](https://drake.mit.edu/doxygen_cxx/classdrake_1_1solvers_1_1_mathematical_program.html).\n",
        "This is the `C++` documentation, but it's very useful to see which methods `MathematicalProgram` implements and what you need to pass to them.\n",
        "- [Drake's nonlinear-programming tutorial](https://mybinder.org/v2/gh/RobotLocomotion/drake/nightly-release?filepath=tutorials).\n",
        "Here you'll find usage examples of all the `MathematicalProgram` methods you need to complete this exercise.\n",
        "\n",
        "**Troubleshooting:**\n",
        "Nonlinear optimization solvers are extremely sensitive.\n",
        "Different OSs can give different results.\n",
        "Even worse, sometimes, enforcing the same constraints in a different order, you can make these solvers find a solution to a problem that they previously said was infeasible!\n",
        "In our Colab testings, we implemented the constraints in the order given above, and we got full score.\n",
        "However, in case you believe that your implementation is correct but you still don't get full score from the autograder, feel free to play with the initial-guess parameters (e.g. the random seed)."
      ]
    },
    {
      "cell_type": "markdown",
      "metadata": {
        "id": "SbTTQYuKkmz3"
      },
      "source": [
        "CONVERTING TO REASONABLE UNITS"
      ]
    },
    {
      "cell_type": "code",
      "metadata": {
        "id": "CpojP2tzkvV_"
      },
      "source": [
        "#thrust opt, state opt"
      ],
      "execution_count": 29,
      "outputs": []
    },
    {
      "cell_type": "code",
      "metadata": {
        "colab": {
          "base_uri": "https://localhost:8080/"
        },
        "id": "BMoXGOO5kvuf",
        "outputId": "aa7a95b6-4e34-405a-ec76-ccdf320d7600"
      },
      "source": [
        "print(state_opt[0]) #x pos, y pos, x vel, y vel\n",
        "x_pos = []\n",
        "y_pos = []\n",
        "x_vel = []\n",
        "y_vel = []\n",
        "for i in range(len(state_opt)):\n",
        "  x_pos.append(round(state_opt[i][0], 4))\n",
        "  y_pos.append(round(state_opt[i][1], 4))\n",
        "  x_vel.append(round(state_opt[i][2], 4))\n",
        "  y_vel.append(round(state_opt[i][3], 4))\n",
        "for i in [x_pos, y_pos, x_vel, y_vel]:\n",
        "  to_print = []\n",
        "  for j in i:\n",
        "    to_print.append(j*1e3)\n",
        "  # print(to_print)\n",
        "\n",
        "# print(thrust_opt[0][0]*1e3) #x thrust, y thrust\n",
        "# print(thrust_opt[0][0])\n",
        "\n",
        "unit_changed_state_opt = []\n",
        "unit_changed_thrust_opt = []\n",
        "for state in state_opt:\n",
        "  unit_changed_state_opt.append(state*1000)\n",
        "for thrust in thrust_opt:\n",
        "  unit_changed_thrust_opt.append(thrust*1000)\n",
        "\n",
        "#ignore since rocket dynamics are still used"
      ],
      "execution_count": 30,
      "outputs": [
        {
          "output_type": "stream",
          "text": [
            "[ 2.26170582 -0.01621647  0.0135914   0.00755901]\n"
          ],
          "name": "stdout"
        }
      ]
    },
    {
      "cell_type": "markdown",
      "metadata": {
        "id": "R88JIjPIkwL-"
      },
      "source": [
        "ADDING WIND EFFECTS"
      ]
    },
    {
      "cell_type": "code",
      "metadata": {
        "id": "mZUzPTR9kyQf"
      },
      "source": [
        "mass = rocket.mass\n",
        "#Scrapped time since wind presents a challenge anyway and there's no \n",
        "#straightforward way to incorporate time with the simulation\n",
        "def wind_acc():\n",
        "  max_acc = (3,3)\n",
        "  f_x, f_y = max_acc #*np.random.rand() #if implementation works, will add randomness\n",
        "  return f_x, f_y"
      ],
      "execution_count": 31,
      "outputs": []
    },
    {
      "cell_type": "markdown",
      "metadata": {
        "id": "jNrPdhAPjxDY"
      },
      "source": [
        "IMPORTS FROM CARTPOLE BALANCING"
      ]
    },
    {
      "cell_type": "code",
      "metadata": {
        "id": "PRjO0TYTj6p4",
        "colab": {
          "base_uri": "https://localhost:8080/"
        },
        "outputId": "61aa0f18-0861-49a2-ead9-79c024d9eb15"
      },
      "source": [
        "# fill these states with the ones given above\n",
        "# x_list = [\n",
        "#     np.array([0, .99*np.pi, 0, 0]),\n",
        "#     np.array([0, .9*np.pi, 0, 0]),\n",
        "#     np.array([0, .85*np.pi, 0, 0]),\n",
        "#     np.array([0, .5*np.pi, 0, 0]),\n",
        "#     np.array([0, 0, 0, 0]),\n",
        "#     np.array([1, np.pi, 0, 0])\n",
        "# ]\n",
        "# x_list = [unit_changed_state_opt[0]]\n",
        "x_list = [state_opt[-1]]\n",
        "print(x_list)\n"
      ],
      "execution_count": 32,
      "outputs": [
        {
          "output_type": "stream",
          "text": [
            "[array([-0.00183814,  0.00089965,  0.00479739, -0.0196617 ])]\n"
          ],
          "name": "stdout"
        }
      ]
    },
    {
      "cell_type": "code",
      "metadata": {
        "id": "7fhXGHn7j_zw"
      },
      "source": [
        "# unstable equilibrium point\n",
        "x_star = [0, np.pi, 0, 0]\n",
        "x_star = state_opt[-1]\n",
        "\n",
        "# weight matrices for the lqr controller\n",
        "Q = np.eye(4)\n",
        "R = np.eye(1)"
      ],
      "execution_count": 33,
      "outputs": []
    },
    {
      "cell_type": "code",
      "metadata": {
        "id": "h9EiPpa43jqN"
      },
      "source": [
        "#URDF for rocket\n",
        "base_urdf = \"\"\"\n",
        "  <link name=\"base\">\n",
        "    <inertial>\n",
        "      <origin xyz=\"0 0 0\" />\n",
        "      <mass value=\"1\" />\n",
        "    </inertial>\n",
        "\n",
        "    <visual>\n",
        "      <origin xyz=\"0 0 0\" />\n",
        "      <geometry>\n",
        "        <box size=\".5 .2 .2\" />\n",
        "      </geometry>\n",
        "      <material>\n",
        "        <color rgba=\"0 1 0 1\" />\n",
        "      </material>\n",
        "    </visual>\n",
        "\n",
        "    <visual>\n",
        "      <origin xyz=\".15 0 -.15\" rpy=\"0 0 0\" />\n",
        "      <geometry>\n",
        "        <sphere radius=\".05\" />\n",
        "      </geometry>\n",
        "      <material>\n",
        "        <color rgba=\"0 0 0 1\" />\n",
        "      </material>\n",
        "    </visual>\n",
        "    \n",
        "    <visual>\n",
        "      <origin xyz=\"-.15 0 -.15\" rpy=\"0 0 0\" />\n",
        "      <geometry>\n",
        "        <sphere radius=\".05\" />\n",
        "      </geometry>\n",
        "      <material>\n",
        "        <color rgba=\"0 0 0 1\" />\n",
        "      </material>\n",
        "    </visual>\n",
        "  </link>\n",
        "\"\"\""
      ],
      "execution_count": 34,
      "outputs": []
    },
    {
      "cell_type": "code",
      "metadata": {
        "id": "hEwIMFbTkCcR"
      },
      "source": [
        "# # start construction site of our block diagram\n",
        "# builder = DiagramBuilder()\n",
        "\n",
        "# # instantiate the cart-pole and the scene graph\n",
        "# cartpole, scene_graph = AddMultibodyPlantSceneGraph(builder, time_step=0.0)\n",
        "# urdf_path = FindResource('models/undamped_cartpole.urdf')\n",
        "# Parser(cartpole).AddModelFromFile(urdf_path)\n",
        "# cartpole.Finalize()\n",
        "\n",
        "# # set the operating point (vertical unstable equilibrium)\n",
        "# context = cartpole.CreateDefaultContext()\n",
        "# context.get_mutable_continuous_state_vector().SetFromVector(x_star)\n",
        "\n",
        "# # fix the input port to zero and get its index for the lqr function\n",
        "# cartpole.get_actuation_input_port().FixValue(context, [0])\n",
        "# input_i = cartpole.get_actuation_input_port().get_index()\n",
        "\n",
        "# # synthesize lqr controller directly from\n",
        "# # the nonlinear system and the operating point\n",
        "# lqr = LinearQuadraticRegulator(cartpole, context, Q, R, input_port_index=input_i)\n",
        "# lqr = builder.AddSystem(lqr)\n",
        "\n",
        "# # the following two lines are not needed here...\n",
        "# output_i = cartpole.get_state_output_port().get_index()\n",
        "# cartpole_lin = Linearize(cartpole, context, input_port_index=input_i, output_port_index=output_i)\n",
        "\n",
        "# # wire cart-pole and lqr\n",
        "# builder.Connect(cartpole.get_state_output_port(), lqr.get_input_port(0))\n",
        "# builder.Connect(lqr.get_output_port(0), cartpole.get_actuation_input_port())\n",
        "\n",
        "# # add a visualizer and wire it\n",
        "# visualizer = builder.AddSystem(\n",
        "#     PlanarSceneGraphVisualizer(scene_graph, xlim=[-3., 3.], ylim=[-1.2, 1.2], show=False)\n",
        "# )\n",
        "# builder.Connect(scene_graph.get_pose_bundle_output_port(), visualizer.get_input_port(0))\n",
        "\n",
        "# # finish building the block diagram\n",
        "# diagram = builder.Build()\n",
        "\n",
        "# # instantiate a simulator\n",
        "# simulator = Simulator(diagram)\n",
        "# simulator.set_publish_every_time_step(False) # makes sim faster"
      ],
      "execution_count": 35,
      "outputs": []
    },
    {
      "cell_type": "code",
      "metadata": {
        "id": "pBgE2GJEkE2h"
      },
      "source": [
        "# # function that given the cart-pole initial state\n",
        "# # and the simulation time, simulates the system\n",
        "# # and produces a video\n",
        "# def simulate_and_animate(x0, sim_time=5):\n",
        "    \n",
        "#     # start recording the video for the animation of the simulation\n",
        "#     visualizer.start_recording()\n",
        "    \n",
        "#     # reset initial time and state\n",
        "#     context = simulator.get_mutable_context()\n",
        "#     context.SetTime(0.)\n",
        "#     context.SetContinuousState(x0)\n",
        "    \n",
        "#     # run sim\n",
        "#     simulator.Initialize()\n",
        "#     simulator.AdvanceTo(sim_time)\n",
        "    \n",
        "#     # stop video\n",
        "#     visualizer.stop_recording()\n",
        "    \n",
        "#     # construct animation\n",
        "#     ani = visualizer.get_recording_as_animation()\n",
        "    \n",
        "#     # display animation below the cell\n",
        "#     display(HTML(ani.to_jshtml()))\n",
        "    \n",
        "#     # reset to empty video\n",
        "#     visualizer.reset_recording()"
      ],
      "execution_count": 36,
      "outputs": []
    },
    {
      "cell_type": "code",
      "metadata": {
        "id": "Eb5w6PV0kGYR"
      },
      "source": [
        "# # simulate and animate the cart\n",
        "# for x in x_list:\n",
        "#     simulate_and_animate(x)"
      ],
      "execution_count": 37,
      "outputs": []
    },
    {
      "cell_type": "code",
      "metadata": {
        "id": "9QYaOuI-kIdi"
      },
      "source": [
        "# system_recovers_from_states = [i for i in range(len(x_list))] # modify here\n",
        "# print('System recovers from states:')\n",
        "# for i in system_recovers_from_states:\n",
        "#     print(np.around(x_list[i], decimals=2))"
      ],
      "execution_count": 38,
      "outputs": []
    }
  ]
}